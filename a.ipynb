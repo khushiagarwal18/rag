{
 "cells": [
  {
   "cell_type": "code",
   "execution_count": 6,
   "id": "02eaea8e",
   "metadata": {},
   "outputs": [
    {
     "name": "stdout",
     "output_type": "stream",
     "text": [
      "Defaulting to user installation because normal site-packages is not writeable\n",
      "Requirement already satisfied: pandas in c:\\users\\sarika agarwal\\appdata\\roaming\\python\\python313\\site-packages (2.3.0)\n",
      "Requirement already satisfied: faiss-cpu in c:\\users\\sarika agarwal\\appdata\\roaming\\python\\python313\\site-packages (1.11.0.post1)\n",
      "Requirement already satisfied: sentence-transformers in c:\\users\\sarika agarwal\\appdata\\roaming\\python\\python313\\site-packages (5.0.0)\n",
      "Requirement already satisfied: openai in c:\\users\\sarika agarwal\\appdata\\roaming\\python\\python313\\site-packages (1.97.1)\n",
      "Requirement already satisfied: gradio in c:\\users\\sarika agarwal\\appdata\\roaming\\python\\python313\\site-packages (5.38.2)\n",
      "Requirement already satisfied: numpy>=1.26.0 in c:\\users\\sarika agarwal\\appdata\\roaming\\python\\python313\\site-packages (from pandas) (2.3.1)\n",
      "Requirement already satisfied: python-dateutil>=2.8.2 in c:\\users\\sarika agarwal\\appdata\\roaming\\python\\python313\\site-packages (from pandas) (2.9.0.post0)\n",
      "Requirement already satisfied: pytz>=2020.1 in c:\\users\\sarika agarwal\\appdata\\roaming\\python\\python313\\site-packages (from pandas) (2025.2)\n",
      "Requirement already satisfied: tzdata>=2022.7 in c:\\users\\sarika agarwal\\appdata\\roaming\\python\\python313\\site-packages (from pandas) (2025.2)\n",
      "Requirement already satisfied: packaging in c:\\users\\sarika agarwal\\appdata\\roaming\\python\\python313\\site-packages (from faiss-cpu) (25.0)\n",
      "Requirement already satisfied: transformers<5.0.0,>=4.41.0 in c:\\users\\sarika agarwal\\appdata\\roaming\\python\\python313\\site-packages (from sentence-transformers) (4.54.1)\n",
      "Requirement already satisfied: tqdm in c:\\users\\sarika agarwal\\appdata\\roaming\\python\\python313\\site-packages (from sentence-transformers) (4.67.1)\n",
      "Requirement already satisfied: torch>=1.11.0 in c:\\users\\sarika agarwal\\appdata\\roaming\\python\\python313\\site-packages (from sentence-transformers) (2.7.1)\n",
      "Requirement already satisfied: scikit-learn in c:\\users\\sarika agarwal\\appdata\\roaming\\python\\python313\\site-packages (from sentence-transformers) (1.7.1)\n",
      "Requirement already satisfied: scipy in c:\\users\\sarika agarwal\\appdata\\roaming\\python\\python313\\site-packages (from sentence-transformers) (1.16.0)\n",
      "Requirement already satisfied: huggingface-hub>=0.20.0 in c:\\users\\sarika agarwal\\appdata\\roaming\\python\\python313\\site-packages (from sentence-transformers) (0.34.3)\n",
      "Requirement already satisfied: Pillow in c:\\users\\sarika agarwal\\appdata\\roaming\\python\\python313\\site-packages (from sentence-transformers) (11.2.1)\n",
      "Requirement already satisfied: typing_extensions>=4.5.0 in c:\\users\\sarika agarwal\\appdata\\roaming\\python\\python313\\site-packages (from sentence-transformers) (4.14.1)\n",
      "Requirement already satisfied: filelock in c:\\users\\sarika agarwal\\appdata\\roaming\\python\\python313\\site-packages (from transformers<5.0.0,>=4.41.0->sentence-transformers) (3.18.0)\n",
      "Requirement already satisfied: pyyaml>=5.1 in c:\\users\\sarika agarwal\\appdata\\roaming\\python\\python313\\site-packages (from transformers<5.0.0,>=4.41.0->sentence-transformers) (6.0.2)\n",
      "Requirement already satisfied: regex!=2019.12.17 in c:\\users\\sarika agarwal\\appdata\\roaming\\python\\python313\\site-packages (from transformers<5.0.0,>=4.41.0->sentence-transformers) (2024.11.6)\n",
      "Requirement already satisfied: requests in c:\\users\\sarika agarwal\\appdata\\roaming\\python\\python313\\site-packages (from transformers<5.0.0,>=4.41.0->sentence-transformers) (2.32.4)\n",
      "Requirement already satisfied: tokenizers<0.22,>=0.21 in c:\\users\\sarika agarwal\\appdata\\roaming\\python\\python313\\site-packages (from transformers<5.0.0,>=4.41.0->sentence-transformers) (0.21.4)\n",
      "Requirement already satisfied: safetensors>=0.4.3 in c:\\users\\sarika agarwal\\appdata\\roaming\\python\\python313\\site-packages (from transformers<5.0.0,>=4.41.0->sentence-transformers) (0.5.3)\n",
      "Requirement already satisfied: fsspec>=2023.5.0 in c:\\users\\sarika agarwal\\appdata\\roaming\\python\\python313\\site-packages (from huggingface-hub>=0.20.0->sentence-transformers) (2025.7.0)\n",
      "Requirement already satisfied: anyio<5,>=3.5.0 in c:\\users\\sarika agarwal\\appdata\\roaming\\python\\python313\\site-packages (from openai) (4.9.0)\n",
      "Requirement already satisfied: distro<2,>=1.7.0 in c:\\users\\sarika agarwal\\appdata\\roaming\\python\\python313\\site-packages (from openai) (1.9.0)\n",
      "Requirement already satisfied: httpx<1,>=0.23.0 in c:\\users\\sarika agarwal\\appdata\\roaming\\python\\python313\\site-packages (from openai) (0.28.1)\n",
      "Requirement already satisfied: jiter<1,>=0.4.0 in c:\\users\\sarika agarwal\\appdata\\roaming\\python\\python313\\site-packages (from openai) (0.10.0)\n",
      "Requirement already satisfied: pydantic<3,>=1.9.0 in c:\\users\\sarika agarwal\\appdata\\roaming\\python\\python313\\site-packages (from openai) (2.11.7)\n",
      "Requirement already satisfied: sniffio in c:\\users\\sarika agarwal\\appdata\\roaming\\python\\python313\\site-packages (from openai) (1.3.1)\n",
      "Requirement already satisfied: idna>=2.8 in c:\\users\\sarika agarwal\\appdata\\roaming\\python\\python313\\site-packages (from anyio<5,>=3.5.0->openai) (3.10)\n",
      "Requirement already satisfied: certifi in c:\\users\\sarika agarwal\\appdata\\roaming\\python\\python313\\site-packages (from httpx<1,>=0.23.0->openai) (2025.7.14)\n",
      "Requirement already satisfied: httpcore==1.* in c:\\users\\sarika agarwal\\appdata\\roaming\\python\\python313\\site-packages (from httpx<1,>=0.23.0->openai) (1.0.9)\n",
      "Requirement already satisfied: h11>=0.16 in c:\\users\\sarika agarwal\\appdata\\roaming\\python\\python313\\site-packages (from httpcore==1.*->httpx<1,>=0.23.0->openai) (0.16.0)\n",
      "Requirement already satisfied: annotated-types>=0.6.0 in c:\\users\\sarika agarwal\\appdata\\roaming\\python\\python313\\site-packages (from pydantic<3,>=1.9.0->openai) (0.7.0)\n",
      "Requirement already satisfied: pydantic-core==2.33.2 in c:\\users\\sarika agarwal\\appdata\\roaming\\python\\python313\\site-packages (from pydantic<3,>=1.9.0->openai) (2.33.2)\n",
      "Requirement already satisfied: typing-inspection>=0.4.0 in c:\\users\\sarika agarwal\\appdata\\roaming\\python\\python313\\site-packages (from pydantic<3,>=1.9.0->openai) (0.4.1)\n",
      "Requirement already satisfied: aiofiles<25.0,>=22.0 in c:\\users\\sarika agarwal\\appdata\\roaming\\python\\python313\\site-packages (from gradio) (24.1.0)\n",
      "Requirement already satisfied: audioop-lts<1.0 in c:\\users\\sarika agarwal\\appdata\\roaming\\python\\python313\\site-packages (from gradio) (0.2.1)\n",
      "Requirement already satisfied: brotli>=1.1.0 in c:\\users\\sarika agarwal\\appdata\\roaming\\python\\python313\\site-packages (from gradio) (1.1.0)\n",
      "Requirement already satisfied: fastapi<1.0,>=0.115.2 in c:\\users\\sarika agarwal\\appdata\\roaming\\python\\python313\\site-packages (from gradio) (0.116.1)\n",
      "Requirement already satisfied: ffmpy in c:\\users\\sarika agarwal\\appdata\\roaming\\python\\python313\\site-packages (from gradio) (0.6.1)\n",
      "Requirement already satisfied: gradio-client==1.11.0 in c:\\users\\sarika agarwal\\appdata\\roaming\\python\\python313\\site-packages (from gradio) (1.11.0)\n",
      "Requirement already satisfied: groovy~=0.1 in c:\\users\\sarika agarwal\\appdata\\roaming\\python\\python313\\site-packages (from gradio) (0.1.2)\n",
      "Requirement already satisfied: jinja2<4.0 in c:\\users\\sarika agarwal\\appdata\\roaming\\python\\python313\\site-packages (from gradio) (3.1.6)\n",
      "Requirement already satisfied: markupsafe<4.0,>=2.0 in c:\\users\\sarika agarwal\\appdata\\roaming\\python\\python313\\site-packages (from gradio) (3.0.2)\n",
      "Requirement already satisfied: orjson~=3.0 in c:\\users\\sarika agarwal\\appdata\\roaming\\python\\python313\\site-packages (from gradio) (3.11.0)\n",
      "Requirement already satisfied: pydub in c:\\users\\sarika agarwal\\appdata\\roaming\\python\\python313\\site-packages (from gradio) (0.25.1)\n",
      "Requirement already satisfied: python-multipart>=0.0.18 in c:\\users\\sarika agarwal\\appdata\\roaming\\python\\python313\\site-packages (from gradio) (0.0.20)\n",
      "Requirement already satisfied: ruff>=0.9.3 in c:\\users\\sarika agarwal\\appdata\\roaming\\python\\python313\\site-packages (from gradio) (0.12.5)\n",
      "Requirement already satisfied: safehttpx<0.2.0,>=0.1.6 in c:\\users\\sarika agarwal\\appdata\\roaming\\python\\python313\\site-packages (from gradio) (0.1.6)\n",
      "Requirement already satisfied: semantic-version~=2.0 in c:\\users\\sarika agarwal\\appdata\\roaming\\python\\python313\\site-packages (from gradio) (2.10.0)\n",
      "Requirement already satisfied: starlette<1.0,>=0.40.0 in c:\\users\\sarika agarwal\\appdata\\roaming\\python\\python313\\site-packages (from gradio) (0.47.2)\n",
      "Requirement already satisfied: tomlkit<0.14.0,>=0.12.0 in c:\\users\\sarika agarwal\\appdata\\roaming\\python\\python313\\site-packages (from gradio) (0.13.3)\n",
      "Requirement already satisfied: typer<1.0,>=0.12 in c:\\users\\sarika agarwal\\appdata\\roaming\\python\\python313\\site-packages (from gradio) (0.16.0)\n",
      "Requirement already satisfied: uvicorn>=0.14.0 in c:\\users\\sarika agarwal\\appdata\\roaming\\python\\python313\\site-packages (from gradio) (0.35.0)\n",
      "Requirement already satisfied: websockets<16.0,>=10.0 in c:\\users\\sarika agarwal\\appdata\\roaming\\python\\python313\\site-packages (from gradio-client==1.11.0->gradio) (15.0.1)\n",
      "Requirement already satisfied: click>=8.0.0 in c:\\users\\sarika agarwal\\appdata\\roaming\\python\\python313\\site-packages (from typer<1.0,>=0.12->gradio) (8.2.1)\n",
      "Requirement already satisfied: shellingham>=1.3.0 in c:\\users\\sarika agarwal\\appdata\\roaming\\python\\python313\\site-packages (from typer<1.0,>=0.12->gradio) (1.5.4)\n",
      "Requirement already satisfied: rich>=10.11.0 in c:\\users\\sarika agarwal\\appdata\\roaming\\python\\python313\\site-packages (from typer<1.0,>=0.12->gradio) (14.1.0)\n",
      "Requirement already satisfied: colorama in c:\\users\\sarika agarwal\\appdata\\roaming\\python\\python313\\site-packages (from click>=8.0.0->typer<1.0,>=0.12->gradio) (0.4.6)\n",
      "Requirement already satisfied: six>=1.5 in c:\\users\\sarika agarwal\\appdata\\roaming\\python\\python313\\site-packages (from python-dateutil>=2.8.2->pandas) (1.17.0)\n",
      "Requirement already satisfied: markdown-it-py>=2.2.0 in c:\\users\\sarika agarwal\\appdata\\roaming\\python\\python313\\site-packages (from rich>=10.11.0->typer<1.0,>=0.12->gradio) (3.0.0)\n",
      "Requirement already satisfied: pygments<3.0.0,>=2.13.0 in c:\\users\\sarika agarwal\\appdata\\roaming\\python\\python313\\site-packages (from rich>=10.11.0->typer<1.0,>=0.12->gradio) (2.19.2)\n",
      "Requirement already satisfied: mdurl~=0.1 in c:\\users\\sarika agarwal\\appdata\\roaming\\python\\python313\\site-packages (from markdown-it-py>=2.2.0->rich>=10.11.0->typer<1.0,>=0.12->gradio) (0.1.2)\n",
      "Requirement already satisfied: sympy>=1.13.3 in c:\\users\\sarika agarwal\\appdata\\roaming\\python\\python313\\site-packages (from torch>=1.11.0->sentence-transformers) (1.14.0)\n",
      "Requirement already satisfied: networkx in c:\\users\\sarika agarwal\\appdata\\roaming\\python\\python313\\site-packages (from torch>=1.11.0->sentence-transformers) (3.5)\n",
      "Requirement already satisfied: setuptools in c:\\users\\sarika agarwal\\appdata\\roaming\\python\\python313\\site-packages (from torch>=1.11.0->sentence-transformers) (80.9.0)\n",
      "Requirement already satisfied: mpmath<1.4,>=1.1.0 in c:\\users\\sarika agarwal\\appdata\\roaming\\python\\python313\\site-packages (from sympy>=1.13.3->torch>=1.11.0->sentence-transformers) (1.3.0)\n",
      "Requirement already satisfied: charset_normalizer<4,>=2 in c:\\users\\sarika agarwal\\appdata\\roaming\\python\\python313\\site-packages (from requests->transformers<5.0.0,>=4.41.0->sentence-transformers) (3.4.2)\n",
      "Requirement already satisfied: urllib3<3,>=1.21.1 in c:\\users\\sarika agarwal\\appdata\\roaming\\python\\python313\\site-packages (from requests->transformers<5.0.0,>=4.41.0->sentence-transformers) (2.5.0)\n",
      "Requirement already satisfied: joblib>=1.2.0 in c:\\users\\sarika agarwal\\appdata\\roaming\\python\\python313\\site-packages (from scikit-learn->sentence-transformers) (1.5.1)\n",
      "Requirement already satisfied: threadpoolctl>=3.1.0 in c:\\users\\sarika agarwal\\appdata\\roaming\\python\\python313\\site-packages (from scikit-learn->sentence-transformers) (3.6.0)\n",
      "Note: you may need to restart the kernel to use updated packages.\n"
     ]
    }
   ],
   "source": [
    "pip install pandas faiss-cpu sentence-transformers openai gradio"
   ]
  },
  {
   "cell_type": "code",
   "execution_count": 7,
   "id": "0d87933a",
   "metadata": {},
   "outputs": [],
   "source": [
    "import os\n",
    "openai.api_key = os.getenv(\"OPENAI_API_KEY\")"
   ]
  },
  {
   "cell_type": "code",
   "execution_count": 8,
   "id": "7c7d46c0",
   "metadata": {},
   "outputs": [
    {
     "name": "stderr",
     "output_type": "stream",
     "text": [
      "Batches:   0%|          | 0/20 [00:00<?, ?it/s]C:\\Users\\Sarika Agarwal\\AppData\\Roaming\\Python\\Python313\\site-packages\\torch\\nn\\modules\\module.py:1762: FutureWarning: `encoder_attention_mask` is deprecated and will be removed in version 4.55.0 for `BertSdpaSelfAttention.forward`.\n",
      "  return forward_call(*args, **kwargs)\n",
      "Batches: 100%|██████████| 20/20 [00:10<00:00,  1.97it/s]\n"
     ]
    }
   ],
   "source": [
    "import pandas as pd\n",
    "from sentence_transformers import SentenceTransformer\n",
    "import faiss\n",
    "import numpy as np\n",
    "import pickle\n",
    "\n",
    "# Load dataset\n",
    "df = pd.read_csv(\"Training Dataset.csv\")\n",
    "df = df.fillna(\"Unknown\")  # Clean NaNs\n",
    "\n",
    "# Convert each row into a natural language chunk\n",
    "def row_to_text(row):\n",
    "    return (\n",
    "        f\"Applicant is a {row['Gender']} who is \"\n",
    "        f\"{'married' if row['Married']=='Yes' else 'not married'}, \"\n",
    "        f\"with {row['Dependents']} dependents, \"\n",
    "        f\"education level: {row['Education']}, \"\n",
    "        f\"self-employed: {row['Self_Employed']}, \"\n",
    "        f\"income: {row['ApplicantIncome']}, \"\n",
    "        f\"loan amount: {row['LoanAmount']}, \"\n",
    "        f\"loan term: {row['Loan_Amount_Term']}, \"\n",
    "        f\"credit history: {row['Credit_History']}, \"\n",
    "        f\"property area: {row['Property_Area']}, \"\n",
    "        f\"loan status: {'approved' if row['Loan_Status'] == 'Y' else 'not approved'}.\"\n",
    "    )\n",
    "\n",
    "docs = df.apply(row_to_text, axis=1).tolist()\n",
    "\n",
    "# Load embedding model\n",
    "embedder = SentenceTransformer('all-MiniLM-L6-v2')\n",
    "doc_embeddings = embedder.encode(docs, show_progress_bar=True)\n",
    "\n",
    "# Save with FAISS\n",
    "dimension = doc_embeddings.shape[1]\n",
    "index = faiss.IndexFlatL2(dimension)\n",
    "index.add(np.array(doc_embeddings))\n",
    "\n",
    "# Save files\n",
    "faiss.write_index(index, \"loan_index.faiss\")\n",
    "with open(\"loan_texts.pkl\", \"wb\") as f:\n",
    "    pickle.dump(docs, f)"
   ]
  },
  {
   "cell_type": "code",
   "execution_count": 9,
   "id": "00e2a9ab",
   "metadata": {},
   "outputs": [],
   "source": [
    "import openai\n",
    "import pickle\n",
    "import numpy as np\n",
    "from sentence_transformers import SentenceTransformer\n",
    "import faiss\n",
    "\n",
    "openai.api_key = \"YOUR_OPENAI_API_KEY\"\n",
    "\n",
    "# Load index + docs\n",
    "index = faiss.read_index(\"loan_index.faiss\")\n",
    "with open(\"loan_texts.pkl\", \"rb\") as f:\n",
    "    docs = pickle.load(f)\n",
    "\n",
    "# Load embedder\n",
    "embedder = SentenceTransformer('all-MiniLM-L6-v2')\n",
    "\n",
    "def get_top_k_docs(query, k=5):\n",
    "    query_embedding = embedder.encode([query])\n",
    "    D, I = index.search(np.array(query_embedding), k)\n",
    "    return [docs[i] for i in I[0]]\n",
    "\n",
    "def generate_answer(query):\n",
    "    top_docs = get_top_k_docs(query, k=5)\n",
    "    context = \"\\n\".join(top_docs)\n",
    "\n",
    "    prompt = f\"\"\"You are a helpful assistant for loan prediction based on the dataset.\n",
    "Use the context to answer user questions intelligently.\n",
    "\n",
    "Context:\n",
    "{context}\n",
    "\n",
    "Question:\n",
    "{query}\n",
    "\n",
    "Answer:\"\"\"\n",
    "\n",
    "    response = openai.ChatCompletion.create(\n",
    "        model=\"gpt-3.5-turbo\",\n",
    "        messages=[{\"role\": \"user\", \"content\": prompt}],\n",
    "        temperature=0.7,\n",
    "    )\n",
    "\n",
    "    return response['choices'][0]['message']['content']"
   ]
  },
  {
   "cell_type": "code",
   "execution_count": 10,
   "id": "45ee5052",
   "metadata": {},
   "outputs": [
    {
     "name": "stdout",
     "output_type": "stream",
     "text": [
      "* Running on local URL:  http://127.0.0.1:7861\n",
      "* To create a public link, set `share=True` in `launch()`.\n"
     ]
    },
    {
     "data": {
      "text/html": [
       "<div><iframe src=\"http://127.0.0.1:7861/\" width=\"100%\" height=\"500\" allow=\"autoplay; camera; microphone; clipboard-read; clipboard-write;\" frameborder=\"0\" allowfullscreen></iframe></div>"
      ],
      "text/plain": [
       "<IPython.core.display.HTML object>"
      ]
     },
     "metadata": {},
     "output_type": "display_data"
    },
    {
     "data": {
      "text/plain": []
     },
     "execution_count": 10,
     "metadata": {},
     "output_type": "execute_result"
    }
   ],
   "source": [
    "import gradio as gr\n",
    "\n",
    "def rag_chatbot(query):\n",
    "    try:\n",
    "        return generate_answer(query)\n",
    "    except Exception as e:\n",
    "        return f\"Error: {str(e)}\"\n",
    "\n",
    "gr.Interface(fn=rag_chatbot, \n",
    "             inputs=gr.Textbox(label=\"Ask about loan approvals 📊\"), \n",
    "             outputs=\"text\",\n",
    "             title=\"💬 RAG Loan Chatbot\",\n",
    "             description=\"Ask questions like 'What causes rejection?', 'How important is credit history?', etc.\"\n",
    "            ).launch()"
   ]
  },
  {
   "cell_type": "code",
   "execution_count": null,
   "id": "49948d84",
   "metadata": {},
   "outputs": [],
   "source": []
  }
 ],
 "metadata": {
  "kernelspec": {
   "display_name": "Python 3",
   "language": "python",
   "name": "python3"
  },
  "language_info": {
   "codemirror_mode": {
    "name": "ipython",
    "version": 3
   },
   "file_extension": ".py",
   "mimetype": "text/x-python",
   "name": "python",
   "nbconvert_exporter": "python",
   "pygments_lexer": "ipython3",
   "version": "3.13.3"
  }
 },
 "nbformat": 4,
 "nbformat_minor": 5
}
